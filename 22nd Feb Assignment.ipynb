{
 "cells": [
  {
   "cell_type": "code",
   "execution_count": 1,
   "id": "e144c6ff-68f4-4aab-9fcc-9551569a8ee1",
   "metadata": {},
   "outputs": [],
   "source": [
    "#1.Create a Pandas series that contains the following data: 4,8,15,16,23 and 42. Then , print the series.\n"
   ]
  },
  {
   "cell_type": "code",
   "execution_count": 2,
   "id": "e7ff3db0-c8e1-4f3d-903f-416df7400fc9",
   "metadata": {},
   "outputs": [
    {
     "name": "stdout",
     "output_type": "stream",
     "text": [
      "Requirement already satisfied: pandas in /opt/conda/lib/python3.10/site-packages (1.5.1)\n",
      "Requirement already satisfied: python-dateutil>=2.8.1 in /opt/conda/lib/python3.10/site-packages (from pandas) (2.8.2)\n",
      "Requirement already satisfied: pytz>=2020.1 in /opt/conda/lib/python3.10/site-packages (from pandas) (2022.5)\n",
      "Requirement already satisfied: numpy>=1.21.0 in /opt/conda/lib/python3.10/site-packages (from pandas) (1.23.4)\n",
      "Requirement already satisfied: six>=1.5 in /opt/conda/lib/python3.10/site-packages (from python-dateutil>=2.8.1->pandas) (1.16.0)\n",
      "Note: you may need to restart the kernel to use updated packages.\n"
     ]
    }
   ],
   "source": [
    "pip install pandas"
   ]
  },
  {
   "cell_type": "code",
   "execution_count": 1,
   "id": "bd3dcd3a-a0ac-41fe-b6cd-879aa72b1a9b",
   "metadata": {},
   "outputs": [
    {
     "name": "stdout",
     "output_type": "stream",
     "text": [
      "0     4\n",
      "1     8\n",
      "2    15\n",
      "3    16\n",
      "4    23\n",
      "5    42\n",
      "dtype: int64\n"
     ]
    }
   ],
   "source": [
    "import pandas as pd\n",
    "\n",
    "data = [4, 8, 15, 16, 23, 42]\n",
    "my_series = pd.Series(data)\n",
    "print(my_series)\n"
   ]
  },
  {
   "cell_type": "code",
   "execution_count": 2,
   "id": "65f6722f-2b48-402c-9ccb-ec6506eb1ec5",
   "metadata": {},
   "outputs": [],
   "source": [
    "#2.Create a variable of list type containing 10 elements in it and apply pandas.Series function on the variable print it.\n"
   ]
  },
  {
   "cell_type": "code",
   "execution_count": 3,
   "id": "771b69f1-c9a0-4b8a-8e30-a1e8749de272",
   "metadata": {},
   "outputs": [
    {
     "name": "stdout",
     "output_type": "stream",
     "text": [
      "0     1\n",
      "1     2\n",
      "2     3\n",
      "3     4\n",
      "4     5\n",
      "5     6\n",
      "6     7\n",
      "7     8\n",
      "8     9\n",
      "9    10\n",
      "dtype: int64\n"
     ]
    }
   ],
   "source": [
    "my_list = [1, 2, 3, 4, 5, 6, 7, 8, 9, 10]\n",
    "my_series = pd.Series(my_list)\n",
    "print(my_series)\n"
   ]
  },
  {
   "cell_type": "code",
   "execution_count": 5,
   "id": "71bfa508-71fe-4c77-b59d-54c08aaf03dd",
   "metadata": {},
   "outputs": [
    {
     "data": {
      "text/plain": [
       "'Name                 Age                          Gender\\nAlice                    25                           Female\\nBob                      30                            Male\\nClaire                   27                            Female\\nThen , print the DataFrame.'"
      ]
     },
     "execution_count": 5,
     "metadata": {},
     "output_type": "execute_result"
    }
   ],
   "source": [
    "#3.Create a Pandas DataFrame that contains the following data:\n",
    "\"\"\"Name                 Age                          Gender\n",
    "Alice                    25                           Female\n",
    "Bob                      30                            Male\n",
    "Claire                   27                            Female\n",
    "Then , print the DataFrame.\"\"\""
   ]
  },
  {
   "cell_type": "code",
   "execution_count": 7,
   "id": "83712a8c-03e8-4637-b3a0-5f26e7e8a17f",
   "metadata": {},
   "outputs": [
    {
     "name": "stdout",
     "output_type": "stream",
     "text": [
      "     Name  Age  Gender\n",
      "0   Alice   25  Female\n",
      "1     Bob   30    Male\n",
      "2  Claire   27  Female\n"
     ]
    }
   ],
   "source": [
    "data = {'Name': ['Alice', 'Bob', 'Claire'],\n",
    "        'Age': [25, 30, 27],\n",
    "        'Gender': ['Female', 'Male', 'Female']}\n",
    "\n",
    "my_df = pd.DataFrame(data)\n",
    "print(my_df)\n"
   ]
  },
  {
   "cell_type": "code",
   "execution_count": 8,
   "id": "bab872fc-6668-41c1-a92f-3ed052c92dd5",
   "metadata": {},
   "outputs": [
    {
     "data": {
      "text/plain": [
       "\"In Pandas, a DataFrame is a 2-dimensional labeled data structure with columns of potentially different data types. It is similar to a spreadsheet \\nor SQL table, and provides a convenient way to store and manipulate tabular data.\\n\\nOn the other hand, a Series is a one-dimensional labeled array capable of holding any data type. It is similar to a column in a spreadsheet or a \\nsingle variable in programming.\\n\\nThe main difference between a DataFrame and a Series is that a DataFrame can store multiple columns of data, whereas a Series can store only a single \\ncolumn of data.\\n\\nHere is an example to illustrate the difference between a DataFrame and a Series. Let's say we have the following data:\\n\\n     Name  Age  Gender\\n0   Alice   25  Female\\n1     Bob   30    Male\\n2  Claire   27  Female\""
      ]
     },
     "execution_count": 8,
     "metadata": {},
     "output_type": "execute_result"
    }
   ],
   "source": [
    "#4.What is 'DataFrame' in pandas and how is it different  from pandas.series? Explain with an example.\n",
    "\"\"\"In Pandas, a DataFrame is a 2-dimensional labeled data structure with columns of potentially different data types. It is similar to a spreadsheet \n",
    "or SQL table, and provides a convenient way to store and manipulate tabular data.\n",
    "\n",
    "On the other hand, a Series is a one-dimensional labeled array capable of holding any data type. It is similar to a column in a spreadsheet or a \n",
    "single variable in programming.\n",
    "\n",
    "The main difference between a DataFrame and a Series is that a DataFrame can store multiple columns of data, whereas a Series can store only a single \n",
    "column of data.\n",
    "\n",
    "Here is an example to illustrate the difference between a DataFrame and a Series. Let's say we have the following data:\n",
    "\n",
    "     Name  Age  Gender\n",
    "0   Alice   25  Female\n",
    "1     Bob   30    Male\n",
    "2  Claire   27  Female\"\"\""
   ]
  },
  {
   "cell_type": "code",
   "execution_count": 10,
   "id": "db9227b0-0eab-45e6-bf0d-88585ab7ed35",
   "metadata": {},
   "outputs": [
    {
     "name": "stdout",
     "output_type": "stream",
     "text": [
      "     Name  Age  Gender\n",
      "0   Alice   25  Female\n",
      "1     Bob   30    Male\n",
      "2  Claire   27  Female\n"
     ]
    }
   ],
   "source": [
    "#example of dataframe\n",
    "data = {'Name': ['Alice', 'Bob', 'Claire'],\n",
    "        'Age': [25, 30, 27],\n",
    "        'Gender': ['Female', 'Male', 'Female']}\n",
    "\n",
    "my_df = pd.DataFrame(data)\n",
    "print(my_df)\n"
   ]
  },
  {
   "cell_type": "code",
   "execution_count": 11,
   "id": "0a6685c2-7caf-499b-b7a0-dc29d139b0c6",
   "metadata": {},
   "outputs": [
    {
     "name": "stdout",
     "output_type": "stream",
     "text": [
      "0    25\n",
      "1    30\n",
      "2    27\n",
      "Name: Age, dtype: int64\n"
     ]
    }
   ],
   "source": [
    "#example of series\n",
    "age = pd.Series([25, 30, 27], name='Age')\n",
    "print(age)"
   ]
  },
  {
   "cell_type": "code",
   "execution_count": 12,
   "id": "955fb38e-73a0-4bdb-b2cd-ed8377d959f1",
   "metadata": {},
   "outputs": [
    {
     "data": {
      "text/plain": [
       "\"There are many common functions available in Pandas that can be used to manipulate data in a DataFrame. Here are some examples:\\n\\nhead() and tail(): These functions can be used to view the first or last n rows of a DataFrame, respectively. For example, you might use df.head() to \\nquickly inspect the first few rows of a DataFrame.\\n\\ninfo(): This function provides a summary of the DataFrame, including the data types of each column and the number of non-null values. It can be useful \\nfor identifying missing data or data type issues.\\n\\ndescribe(): This function provides summary statistics for each numeric column in the DataFrame, such as the mean, standard deviation, minimum, and \\nmaximum. It can be useful for getting a quick overview of the data.\\n\\ndropna(): This function can be used to remove any rows or columns that contain missing data. For example, you might use df.dropna() to remove all rows\\nwith missing values.\\n\\nfillna(): This function can be used to replace missing values in the DataFrame with a specified value or method. For example, you might use df.fillna(0) \\nto replace all missing values with 0.\\n\\ngroupby(): This function can be used to group the DataFrame by one or more columns and apply a function to each group. For example, you might use \\ndf.groupby('category').mean() to calculate the mean of each column for each category in a categorical column.\\n\\nsort_values(): This function can be used to sort the DataFrame by one or more columns. For example, you might use df.sort_values('age') to sort the \\nDataFrame by the 'age' column in ascending order.\\n\\napply(): This function can be used to apply a function to each row or column of the DataFrame. For example, you might use df.apply(lambda x: x['age'] + 10, axis=1) to \\nadd 10 to the 'age' column for each row.\""
      ]
     },
     "execution_count": 12,
     "metadata": {},
     "output_type": "execute_result"
    }
   ],
   "source": [
    "#5. What are some common functions you can use to manipulate data in a pandas DataFrame? Can you give an example of when you might use one of these functions.\n",
    "\"\"\"There are many common functions available in Pandas that can be used to manipulate data in a DataFrame. Here are some examples:\n",
    "\n",
    "head() and tail(): These functions can be used to view the first or last n rows of a DataFrame, respectively. For example, you might use df.head() to \n",
    "quickly inspect the first few rows of a DataFrame.\n",
    "\n",
    "info(): This function provides a summary of the DataFrame, including the data types of each column and the number of non-null values. It can be useful \n",
    "for identifying missing data or data type issues.\n",
    "\n",
    "describe(): This function provides summary statistics for each numeric column in the DataFrame, such as the mean, standard deviation, minimum, and \n",
    "maximum. It can be useful for getting a quick overview of the data.\n",
    "\n",
    "dropna(): This function can be used to remove any rows or columns that contain missing data. For example, you might use df.dropna() to remove all rows\n",
    "with missing values.\n",
    "\n",
    "fillna(): This function can be used to replace missing values in the DataFrame with a specified value or method. For example, you might use df.fillna(0) \n",
    "to replace all missing values with 0.\n",
    "\n",
    "groupby(): This function can be used to group the DataFrame by one or more columns and apply a function to each group. For example, you might use \n",
    "df.groupby('category').mean() to calculate the mean of each column for each category in a categorical column.\n",
    "\n",
    "sort_values(): This function can be used to sort the DataFrame by one or more columns. For example, you might use df.sort_values('age') to sort the \n",
    "DataFrame by the 'age' column in ascending order.\n",
    "\n",
    "apply(): This function can be used to apply a function to each row or column of the DataFrame. For example, you might use df.apply(lambda x: x['age'] + 10, axis=1) to \n",
    "add 10 to the 'age' column for each row.\"\"\""
   ]
  },
  {
   "cell_type": "code",
   "execution_count": 13,
   "id": "5777d6cc-10b7-429b-b8ce-944a29a5b96a",
   "metadata": {},
   "outputs": [
    {
     "data": {
      "text/plain": [
       "'In Pandas, both Series and DataFrame are mutable in nature.\\n\\nA Series can be modified by assigning new values to its elements, adding new elements, or removing existing elements using the drop() method.\\n\\nSimilarly, a DataFrame can be modified by assigning new values to its elements, adding new columns or rows, or removing existing columns or rows \\nusing various methods such as loc[], iloc[], drop(), insert(), and so on.\\n\\nOn the other hand, a Panel is a 3-dimensional data structure that is deprecated in Pandas 1.0 and above. It was replaced by the MultiIndex and\\nDataFrame objects, which can handle data with more than two dimensions. Therefore, Panel is not mutable in the latest version of Pandas.'"
      ]
     },
     "execution_count": 13,
     "metadata": {},
     "output_type": "execute_result"
    }
   ],
   "source": [
    "#6.Which of the following is mutable in nature Series ,DataFrame ,Panel.\n",
    "\"\"\"In Pandas, both Series and DataFrame are mutable in nature.\n",
    "\n",
    "A Series can be modified by assigning new values to its elements, adding new elements, or removing existing elements using the drop() method.\n",
    "\n",
    "Similarly, a DataFrame can be modified by assigning new values to its elements, adding new columns or rows, or removing existing columns or rows \n",
    "using various methods such as loc[], iloc[], drop(), insert(), and so on.\n",
    "\n",
    "On the other hand, a Panel is a 3-dimensional data structure that is deprecated in Pandas 1.0 and above. It was replaced by the MultiIndex and\n",
    "DataFrame objects, which can handle data with more than two dimensions. Therefore, Panel is not mutable in the latest version of Pandas.\"\"\""
   ]
  },
  {
   "cell_type": "code",
   "execution_count": 14,
   "id": "fef33d4e-4f85-4d65-bbdf-bfdebf525408",
   "metadata": {},
   "outputs": [
    {
     "name": "stdout",
     "output_type": "stream",
     "text": [
      "   Column1 Column2  Column3\n",
      "0        1       A     10.5\n",
      "1        2       B     20.5\n",
      "2        3       C     30.5\n",
      "3        4       D     40.5\n",
      "4        5       E     50.5\n"
     ]
    }
   ],
   "source": [
    "#7.Create a dataframe using multiple series. Explain with an example.\n",
    "\"\"\"In Pandas, a DataFrame is a 2-dimensional labeled data structure that can hold data of various types (e.g., numerical, categorical, textual) in a \n",
    "tabular format. A DataFrame can be created using various methods, one of which is using multiple series.\n",
    "\n",
    "Here's an example of how to create a DataFrame using multiple series:\"\"\"\n",
    "import pandas as pd\n",
    "\n",
    "# Create three series containing data for the DataFrame\n",
    "series1 = pd.Series([1, 2, 3, 4, 5])\n",
    "series2 = pd.Series(['A', 'B', 'C', 'D', 'E'])\n",
    "series3 = pd.Series([10.5, 20.5, 30.5, 40.5, 50.5])\n",
    "\n",
    "# Combine the series into a DataFrame\n",
    "df = pd.DataFrame({'Column1': series1, 'Column2': series2, 'Column3': series3})\n",
    "\n",
    "# Print the DataFrame\n",
    "print(df)\n"
   ]
  },
  {
   "cell_type": "code",
   "execution_count": 15,
   "id": "3bc8c21b-dff5-4953-99ba-2997c5ccf7c5",
   "metadata": {},
   "outputs": [
    {
     "data": {
      "text/plain": [
       "'we create three series series1, series2, and series3, each containing data for the DataFrame. series1 contains numerical data, series2 contains \\ncategorical data, and series3 contains numerical data with decimal points.\\n\\nNext, we combine the series into a DataFrame using the pd.DataFrame() method. We pass a dictionary to this method, where the keys represent the \\ncolumn names of the DataFrame, and the values represent the corresponding series.\\n\\nFinally, we print the DataFrame using the print() method.'"
      ]
     },
     "execution_count": 15,
     "metadata": {},
     "output_type": "execute_result"
    }
   ],
   "source": [
    "\"\"\"we create three series series1, series2, and series3, each containing data for the DataFrame. series1 contains numerical data, series2 contains \n",
    "categorical data, and series3 contains numerical data with decimal points.\n",
    "\n",
    "Next, we combine the series into a DataFrame using the pd.DataFrame() method. We pass a dictionary to this method, where the keys represent the \n",
    "column names of the DataFrame, and the values represent the corresponding series.\n",
    "\n",
    "Finally, we print the DataFrame using the print() method.\"\"\""
   ]
  },
  {
   "cell_type": "code",
   "execution_count": null,
   "id": "bc279a32-4d00-4e14-acf8-92730c6e97ad",
   "metadata": {},
   "outputs": [],
   "source": []
  }
 ],
 "metadata": {
  "kernelspec": {
   "display_name": "Python 3 (ipykernel)",
   "language": "python",
   "name": "python3"
  },
  "language_info": {
   "codemirror_mode": {
    "name": "ipython",
    "version": 3
   },
   "file_extension": ".py",
   "mimetype": "text/x-python",
   "name": "python",
   "nbconvert_exporter": "python",
   "pygments_lexer": "ipython3",
   "version": "3.10.6"
  }
 },
 "nbformat": 4,
 "nbformat_minor": 5
}
